{
 "cells": [
  {
   "cell_type": "markdown",
   "metadata": {},
   "source": [
    "### Distribucion binomial\n",
    "\n",
    "Por ejemplo\n",
    "Si un futbolista tiene un acierto de lanzamiento a puerta del 20%, cual es la probabilidad de que marque 3 goles si lanza 10 veces?"
   ]
  },
  {
   "cell_type": "code",
   "execution_count": 9,
   "metadata": {},
   "outputs": [
    {
     "name": "stdout",
     "output_type": "stream",
     "text": [
      "La probabilidad de obtener 3 éxitos es: 0.20132659199999992\n"
     ]
    }
   ],
   "source": [
    "from scipy.stats import binom\n",
    "\n",
    "# Parámetros de la distribución binomial\n",
    "n = 10  # Número total de ensayos\n",
    "p = 0.2  # Probabilidad de éxito en cada ensayo\n",
    "\n",
    "# Número de éxitos deseados\n",
    "k = 3\n",
    "\n",
    "# Calcular la probabilidad de obtener exactamente k éxitos en n ensayos\n",
    "probabilidad = binom.pmf(k, n, p)\n",
    "\n",
    "print(f'La probabilidad de obtener {k} éxitos es: {probabilidad}')\n"
   ]
  }
 ],
 "metadata": {
  "kernelspec": {
   "display_name": "venv",
   "language": "python",
   "name": "python3"
  },
  "language_info": {
   "codemirror_mode": {
    "name": "ipython",
    "version": 3
   },
   "file_extension": ".py",
   "mimetype": "text/x-python",
   "name": "python",
   "nbconvert_exporter": "python",
   "pygments_lexer": "ipython3",
   "version": "3.11.4"
  }
 },
 "nbformat": 4,
 "nbformat_minor": 2
}
